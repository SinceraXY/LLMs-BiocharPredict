{
 "cells": [
  {
   "cell_type": "code",
   "execution_count": 1,
   "metadata": {},
   "outputs": [],
   "source": [
    "import pandas as pd\n",
    "\n",
    "def extract_columns_by_index_ranges(input_csv, output_csv, ranges, encoding='utf-8-sig'):\n",
    "    # 读取输入的CSV文件\n",
    "    df = pd.read_csv(input_csv, encoding=encoding)\n",
    "    \n",
    "    # 生成需要提取的列索引列表\n",
    "    columns_to_extract = []\n",
    "    for start, end in ranges:\n",
    "        columns_to_extract.extend(range(start, end + 1))\n",
    "    \n",
    "    # 提取指定的列\n",
    "    df_extracted = df.iloc[:, columns_to_extract]\n",
    "    \n",
    "    # 将提取的列保存到新的CSV文件\n",
    "    df_extracted.to_csv(output_csv, index=False, encoding=encoding)\n",
    "\n",
    "input_csv = '数据集 补充完整.csv'  # 输入的CSV文件路径"
   ]
  },
  {
   "cell_type": "markdown",
   "metadata": {},
   "source": [
    "生物炭产量"
   ]
  },
  {
   "cell_type": "code",
   "execution_count": 15,
   "metadata": {},
   "outputs": [],
   "source": [
    "output_csv = r'数据集分类\\yield.csv'  # 输出的CSV文件路径\n",
    "ranges = [(0, 26)]  # 要提取的列索引范围，例如：第1到第3列（0, 1, 2）和第5到第7列（4, 5, 6）\n",
    "\n",
    "extract_columns_by_index_ranges(input_csv, output_csv, ranges)"
   ]
  },
  {
   "cell_type": "markdown",
   "metadata": {},
   "source": [
    "比表面积"
   ]
  },
  {
   "cell_type": "code",
   "execution_count": 16,
   "metadata": {},
   "outputs": [],
   "source": [
    "output_csv = r'数据集分类\\specific surface area.csv'\n",
    "ranges = [(0, 25), (27, 27)]\n",
    "\n",
    "extract_columns_by_index_ranges(input_csv, output_csv, ranges)"
   ]
  },
  {
   "cell_type": "markdown",
   "metadata": {},
   "source": [
    "Ash含量"
   ]
  },
  {
   "cell_type": "code",
   "execution_count": 17,
   "metadata": {},
   "outputs": [],
   "source": [
    "output_csv = r'数据集分类\\Ash.csv'\n",
    "ranges = [(0, 25), (28, 28)]\n",
    "\n",
    "extract_columns_by_index_ranges(input_csv, output_csv, ranges)"
   ]
  },
  {
   "cell_type": "markdown",
   "metadata": {},
   "source": [
    "CHNO占比"
   ]
  },
  {
   "cell_type": "code",
   "execution_count": 18,
   "metadata": {},
   "outputs": [],
   "source": [
    "output_csv = r'数据集分类\\CHNO.csv'\n",
    "ranges = [(0, 25), (29, 32)]\n",
    "\n",
    "extract_columns_by_index_ranges(input_csv, output_csv, ranges)"
   ]
  },
  {
   "cell_type": "markdown",
   "metadata": {},
   "source": [
    "pH"
   ]
  },
  {
   "cell_type": "code",
   "execution_count": 19,
   "metadata": {},
   "outputs": [],
   "source": [
    "output_csv = r'数据集分类\\pH.csv'\n",
    "ranges = [(0, 25), (33, 33)]\n",
    "\n",
    "extract_columns_by_index_ranges(input_csv, output_csv, ranges)"
   ]
  },
  {
   "cell_type": "markdown",
   "metadata": {},
   "source": [
    "粒径"
   ]
  },
  {
   "cell_type": "code",
   "execution_count": 20,
   "metadata": {},
   "outputs": [],
   "source": [
    "output_csv = r'数据集分类\\grain size.csv'\n",
    "ranges = [(0, 25), (34, 34)]\n",
    "\n",
    "extract_columns_by_index_ranges(input_csv, output_csv, ranges)"
   ]
  },
  {
   "cell_type": "markdown",
   "metadata": {},
   "source": [
    "Ash含量+CHNO占比"
   ]
  },
  {
   "cell_type": "code",
   "execution_count": 21,
   "metadata": {},
   "outputs": [],
   "source": [
    "output_csv = r'数据集分类\\Ash + CHNO.csv'\n",
    "ranges = [(0, 25), (28, 32)]\n",
    "\n",
    "extract_columns_by_index_ranges(input_csv, output_csv, ranges)"
   ]
  },
  {
   "cell_type": "markdown",
   "metadata": {},
   "source": [
    "生物炭产量+Ash含量+CHNO占比"
   ]
  },
  {
   "cell_type": "code",
   "execution_count": 22,
   "metadata": {},
   "outputs": [],
   "source": [
    "output_csv = r'数据集分类\\yield + Ash + CHNO.csv'\n",
    "ranges = [(0, 26), (28, 32)]\n",
    "\n",
    "extract_columns_by_index_ranges(input_csv, output_csv, ranges)"
   ]
  },
  {
   "cell_type": "markdown",
   "metadata": {},
   "source": [
    "比表面积+pH+粒径"
   ]
  },
  {
   "cell_type": "code",
   "execution_count": 23,
   "metadata": {},
   "outputs": [],
   "source": [
    "output_csv = r'数据集分类\\specific surface area + pH + grain size.csv'\n",
    "ranges = [(0, 25), (27, 27), (33, 34)]\n",
    "\n",
    "extract_columns_by_index_ranges(input_csv, output_csv, ranges)"
   ]
  },
  {
   "cell_type": "markdown",
   "metadata": {},
   "source": [
    "生物炭产量+比表面积+pH+粒径"
   ]
  },
  {
   "cell_type": "code",
   "execution_count": 24,
   "metadata": {},
   "outputs": [],
   "source": [
    "output_csv = r'数据集分类\\yield + specific surface area + pH + grain size.csv'\n",
    "ranges = [(0, 27), (33, 34)]\n",
    "\n",
    "extract_columns_by_index_ranges(input_csv, output_csv, ranges)"
   ]
  },
  {
   "cell_type": "markdown",
   "metadata": {},
   "source": [
    "比表面积+Ash含量+CHNO占比+pH+粒径"
   ]
  },
  {
   "cell_type": "code",
   "execution_count": 25,
   "metadata": {},
   "outputs": [],
   "source": [
    "output_csv = r'数据集分类\\specific surface area + Ash + CHNO + pH + grain size.csv'\n",
    "ranges = [(0, 25), (27, 34)]\n",
    "\n",
    "extract_columns_by_index_ranges(input_csv, output_csv, ranges)"
   ]
  },
  {
   "cell_type": "markdown",
   "metadata": {},
   "source": [
    "生物炭产量+比表面积+Ash含量+CHNO占比+pH+粒径"
   ]
  },
  {
   "cell_type": "code",
   "execution_count": 26,
   "metadata": {},
   "outputs": [],
   "source": [
    "output_csv = r'数据集分类\\yield + specific surface area + Ash + CHNO + pH + grain size.csv'\n",
    "ranges = [(0, 34)]\n",
    "\n",
    "extract_columns_by_index_ranges(input_csv, output_csv, ranges)"
   ]
  }
 ],
 "metadata": {
  "kernelspec": {
   "display_name": "venv",
   "language": "python",
   "name": "python3"
  },
  "language_info": {
   "codemirror_mode": {
    "name": "ipython",
    "version": 3
   },
   "file_extension": ".py",
   "mimetype": "text/x-python",
   "name": "python",
   "nbconvert_exporter": "python",
   "pygments_lexer": "ipython3",
   "version": "3.9.19"
  }
 },
 "nbformat": 4,
 "nbformat_minor": 2
}
